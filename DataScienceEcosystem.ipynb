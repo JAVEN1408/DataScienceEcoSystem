{
  "metadata": {
    "kernelspec": {
      "name": "python",
      "display_name": "Python (Pyodide)",
      "language": "python"
    },
    "language_info": {
      "codemirror_mode": {
        "name": "python",
        "version": 3
      },
      "file_extension": ".py",
      "mimetype": "text/x-python",
      "name": "python",
      "nbconvert_exporter": "python",
      "pygments_lexer": "ipython3",
      "version": "3.8"
    }
  },
  "nbformat_minor": 4,
  "nbformat": 4,
  "cells": [
    {
      "cell_type": "markdown",
      "source": "# Data science tools and ecosysytem\n\n",
      "metadata": {
        "jp-MarkdownHeadingCollapsed": true
      }
    },
    {
      "cell_type": "markdown",
      "source": "\n\n# Main Tools and Ecosystems:\n\nProgramming Languages:\n\n• Python: NumPy, pandas, Sci-kit learn, Tensor flow, Keras, Pytorch\n\n• R: ggplot2, dplyr, tidyr, caret\n\n• SQL: MySQL, Postgre, Sqlite\n\nIntegrated Development Environments (IDEs):\n\n• Jupyter Notebook\n\n• RStudio\n\n• Pure Charm\n\nData Manipulation:\n\n• pandas (Python)\n\n- dplyr (R)\n\n-Sql\n\n## Data Base Design:\n\n- MATLAB, Seaborn (Python)\n\n-Creation huge (R)\n\n-Adobe Photoshop\n\n-PowerBI\n\n## Machine Learning and Deep Learning:\n\n- Sci-kit learn (Python)\n\n- T Acute Inc (Python)\n\n- K T C (Python)\n\n- Py Tour Shin (Python)\n\n## Big Data Technologies:\n\n-Hadoop\n\n-Spark’s City Assortment\n\n-Apache Cafe\n\n## Data Storage:\n\n- SQL: Relational used DB RM: MySQL, Postgresqsql\n\n- No SQL DB: Mongo DC, Cassandra\n\n- Data Warehouse: Amazon Redshift, Google BigQuery\n\n## Collaboration and Version Control:\n\n-Git\n\n-Bit Adapter, Git Hub, Git Labs, Bit Bucket\n\n## Cloud Platforms:\n\n-Amazon Cloud Services\n\n-Nepal Google Cloud Sets\n\n-Micro Soft Orb\n\nSuch utilities enable a data scientist to perform end to end data analysis, data visualisation and machine Le.",
      "metadata": {}
    },
    {
      "cell_type": "markdown",
      "source": "## programming languages\n\n• Python: NumPy, pandas, Sci-kit learn, Tensor flow, Keras, Pytorch\n\n• R: ggplot2, dplyr, tidyr, caret\n\n• SQL: MySQL, Postgre, Sqlite\n\nIntegrated Development Environments (IDEs):\n\n• Jupyter Notebook\n\n• RStudio\n\n• Pure Charm\n\nData Manipulation:\n\n• pandas (Python)\n\ndplyr (R)\n-Sql",
      "metadata": {}
    },
    {
      "cell_type": "markdown",
      "source": "## libraries of ds\n- Python offers a diverse library ecosystem for data science, covering scientific computing (Pandas, NumPy), visualization (Matplotlib, Seaborn), and high-level machine learning (Scikit-learn). These libraries offer tools for data manipulation, mathematical operations, and simplified machine learning model development.\n\n- Application Programming Interfaces (APIs) facilitate communication between software components. REST APIs, specifically, facilitate internet communication and access resources like storage. Key API terms include client (user or code accessing it), resource (service or data), and endpoint (API's URL). \n\n- Machine learning models analyze data and identify patterns to make predictions and automate complex tasks—the three fundamental types of machine learning are supervised, unsupervised, and reinforcement learning. Supervised learning includes regression and classification models for predictive modeling and pattern recognition. Deep learning, an advanced subset of machine learning, mimics the brain's processing, enabling intricate problem-solving in various domains.\n\n- The Community Data License Agreement (CDLA) facilitates open data sharing by providing clear licensing terms for distribution and use, and the IBM Data Asset eXchange (DAX) site contains high-quality open data sets.\n\n- The Model Asset eXchange (MAX) provides a wealth of pre-trained deep learning models, empowering developers with readily deployable solutions for various business challenges.  ",
      "metadata": {
        "jp-MarkdownHeadingCollapsed": true
      }
    },
    {
      "cell_type": "markdown",
      "source": "# Data Management Tools: \n- include Relational Databases, NoSQL Databases, and Big Data platforms:\n\n- MySQL, and PostgreSQL are examples of Open Source Relational Database Management Systems (RDBMS), and IBM Db2 and SQL Server are examples of commercial RDBMSes and are also available as Cloud services.\n\n- MongoDB and Apache Cassandra are examples of NoSQL databases.\n\n- Apache Hadoop and Apache Spark are used for Big Data analytics. \n\n# Data Integration and Transformation Tools:\n- include Apache Airflow and Apache Kafka. \n\n# Data Visualization Tools: \n- include commercial offerings  such as Cognos Analytics, Tableau and PowerBI  and can be used for building dynamic and interactive dashboards.  \n\n# Code Asset Management Tools:\n- Git is an essential code asset management tool. GitHub is a popular web-based platform for storing and managing source code. Its features make it an ideal tool for collaborative software development, including version control, issue tracking, and project management.",
      "metadata": {}
    },
    {
      "cell_type": "markdown",
      "source": "### Arithmetic expressions",
      "metadata": {}
    },
    {
      "cell_type": "code",
      "source": "(3*4)+5",
      "metadata": {
        "trusted": true
      },
      "outputs": [
        {
          "execution_count": 2,
          "output_type": "execute_result",
          "data": {
            "text/plain": "17"
          },
          "metadata": {}
        }
      ],
      "execution_count": 2
    },
    {
      "cell_type": "code",
      "source": "h=200\nm=int(h/60)\nm",
      "metadata": {
        "trusted": true
      },
      "outputs": [
        {
          "execution_count": 5,
          "output_type": "execute_result",
          "data": {
            "text/plain": "3"
          },
          "metadata": {}
        }
      ],
      "execution_count": 5
    },
    {
      "cell_type": "markdown",
      "source": "# OBJECTIVES:\n- Describe what data science and machine learning are, their applications & use cases, and various types of tasks performed by data scientists  \n- Develop the mindset to work like a data scientist, and follow a methodology to tackle different types of data science problems\n- Gain hands-on familiarity with common data science tools including JupyterLab, R Studio, GitHub and Watson Studio ",
      "metadata": {}
    },
    {
      "cell_type": "markdown",
      "source": "## AUTHOR\nHrishikesh",
      "metadata": {}
    },
    {
      "cell_type": "code",
      "source": "",
      "metadata": {
        "trusted": true
      },
      "outputs": [],
      "execution_count": null
    },
    {
      "cell_type": "code",
      "source": "",
      "metadata": {
        "trusted": true
      },
      "outputs": [],
      "execution_count": null
    },
    {
      "cell_type": "code",
      "source": "",
      "metadata": {
        "trusted": true
      },
      "outputs": [],
      "execution_count": null
    }
  ]
}